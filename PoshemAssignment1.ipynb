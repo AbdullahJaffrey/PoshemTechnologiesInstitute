{
 "cells": [
  {
   "cell_type": "markdown",
   "id": "2f0792d4",
   "metadata": {},
   "source": [
    "# Poshem Technology Data Analyst Bootcamp"
   ]
  },
  {
   "cell_type": "markdown",
   "id": "b1c795a9",
   "metadata": {},
   "source": [
    "## Assignment # 01"
   ]
  },
  {
   "cell_type": "markdown",
   "id": "78da50b5",
   "metadata": {},
   "source": [
    "1- What is the difference between a Data Analyst, Data Scientist and a Data Engineer?"
   ]
  },
  {
   "cell_type": "markdown",
   "id": "7ea330a3",
   "metadata": {},
   "source": [
    "**Data Engineers**:\n",
    "\n",
    "The Data Engineer is in charge of ensuring data integrity and establishing the data infrastructure.\n",
    "\n",
    "**Data Analysts**:\n",
    "\n",
    "Data Analysts are in charge of analysing data, extracting insights, and visualising it. As a result, it can assist companies make decisions.\n",
    "\n",
    "**Data Scientists**:\n",
    "    \n",
    "Data Scientists are in charge of analysing data and identifying patterns in it using machine learning to create a predictive model that allows businesses to make future decisions.\n"
   ]
  },
  {
   "cell_type": "markdown",
   "id": "eda95d7d",
   "metadata": {},
   "source": [
    "2- What are some skills and tools that one needs to become a better Data Analyst ( list 3-4)"
   ]
  },
  {
   "cell_type": "markdown",
   "id": "cb81c251",
   "metadata": {},
   "source": [
    "These are some skills and tools that one needs to become a better Data Analyst:\n",
    "    \n",
    "1. Python\n",
    "2. SQL\n",
    "3. Excel\n",
    "4. PowerBI\n",
    "5. Presentation and Communication skill"
   ]
  },
  {
   "cell_type": "markdown",
   "id": "602f1573",
   "metadata": {},
   "source": [
    "3- What are 3 rules regarding variables in Python ?\n",
    "\n",
    "These are 3 rules regarding variables in Python:\n",
    "    \n",
    "1. It starts with a letter or underscore. Example: 'name', '_value'\n",
    "2. Cannot use special characters at the start. Example: '@name', '-height'\n",
    "3. Cannot start with a number. Example: '1name', '2_4height'\n",
    "4. Variables are case-sensitive. 'Name' and 'name' would be different variables. So, be careful on this."
   ]
  },
  {
   "cell_type": "markdown",
   "id": "d2de83c6",
   "metadata": {},
   "source": [
    "4-Mention 4 Python datatypes you were taught in class\n",
    "\n",
    "These are the 4 Python datatypes you were taught in class:\n",
    "\n",
    "1. String\n",
    "2. Integer\n",
    "3. Float\n",
    "4. Boolean"
   ]
  },
  {
   "cell_type": "markdown",
   "id": "9d32cf30",
   "metadata": {},
   "source": [
    "5- declare 3 separate variables that accept 3 different numbers print ONLY the 3rd variable ( ensure to insert comments in your code and save it also "
   ]
  },
  {
   "cell_type": "code",
   "execution_count": 1,
   "id": "446f5c0f",
   "metadata": {},
   "outputs": [
    {
     "name": "stdout",
     "output_type": "stream",
     "text": [
      "Enter your first number: 1\n",
      "Enter your second number: 2\n",
      "Enter your third number: 3\n",
      "The third number you entered is 3\n"
     ]
    }
   ],
   "source": [
    "number1 = input('Enter your first number: ')\n",
    "number2 = input('Enter your second number: ')\n",
    "number3 = input('Enter your third number: ')\n",
    "print(f'The third number you entered is {number3}')"
   ]
  },
  {
   "cell_type": "markdown",
   "id": "9e7049d4",
   "metadata": {},
   "source": [
    "6- Add Variable 1 and Variable 2 then Display the result "
   ]
  },
  {
   "cell_type": "code",
   "execution_count": 2,
   "id": "4aec85a6",
   "metadata": {},
   "outputs": [
    {
     "name": "stdout",
     "output_type": "stream",
     "text": [
      "Enter your first number: 2\n",
      "Enter your second number: 3\n",
      " The result is found to be 5\n"
     ]
    }
   ],
   "source": [
    "number1 = int(input('Enter your first number: '))\n",
    "number2 = int(input('Enter your second number: '))\n",
    "\n",
    "result = number1 + number2\n",
    "print(f' The result is found to be {result}')"
   ]
  },
  {
   "cell_type": "markdown",
   "id": "a27425b4",
   "metadata": {},
   "source": [
    "7-From the videos watched regarding Operators, what is a Modulus and write a code that gives an example of Modulus ( ask questions on the platform if you need help) "
   ]
  },
  {
   "cell_type": "markdown",
   "id": "06ed8f94",
   "metadata": {},
   "source": [
    "Modulus helps us to deal with the remainder. Represented by \"%\" \n",
    "\n",
    "Example: If we had 5%2. the remainder or our answer is one. "
   ]
  },
  {
   "cell_type": "code",
   "execution_count": 3,
   "id": "b72a0fd8",
   "metadata": {},
   "outputs": [
    {
     "name": "stdout",
     "output_type": "stream",
     "text": [
      "So, The reminder we had for 5%2 is: 1\n"
     ]
    }
   ],
   "source": [
    "print(f'So, The reminder we had for 5%2 is: {5%2}')"
   ]
  },
  {
   "cell_type": "markdown",
   "id": "4f5eda5a",
   "metadata": {},
   "source": [
    "8- How would you explain floor division to a 5 year old"
   ]
  },
  {
   "cell_type": "markdown",
   "id": "00c8568b",
   "metadata": {},
   "source": [
    "Floor Division helps us to cut down or round-off the value to the nearest whole number obtained from the division. Mostly, used while using float values. Represented by \"//\"\n",
    "\n",
    "Example: If we had 10//3. We will get 3.3333 before the round-off. After rounding-off 3.333, Our answer will be 3."
   ]
  },
  {
   "cell_type": "code",
   "execution_count": 4,
   "id": "ae9021ef",
   "metadata": {},
   "outputs": [
    {
     "name": "stdout",
     "output_type": "stream",
     "text": [
      "The answer we get before using floor division: 3.3333333333333335\n",
      "---------------------------------------------------------\n",
      "Now, The answer we get after using floor division: 3\n"
     ]
    }
   ],
   "source": [
    "print(f'The answer we get before using floor division: {10/3}')\n",
    "print('---------------------------------------------------------')\n",
    "print(f'Now, The answer we get after using floor division: {10//3}')"
   ]
  },
  {
   "cell_type": "markdown",
   "id": "b32c17ee",
   "metadata": {},
   "source": [
    "9- What is the difference between a Python List and a Tuple"
   ]
  },
  {
   "cell_type": "markdown",
   "id": "97be55e3",
   "metadata": {},
   "source": [
    "Lists are mutable and can be changed. Meanwhile, Tuples aren't. List are represented by \"[]\". Meanwhile, tuples are represented by \"()\"."
   ]
  },
  {
   "cell_type": "code",
   "execution_count": 5,
   "id": "7072cb97",
   "metadata": {},
   "outputs": [],
   "source": [
    "list1 = ['Abdullah', 'Jafri'] # This is a list\n",
    "tuple1 = ('Abdullah', 'Jafri') # This is a tuple"
   ]
  },
  {
   "cell_type": "code",
   "execution_count": 6,
   "id": "70b0577c",
   "metadata": {},
   "outputs": [
    {
     "name": "stdout",
     "output_type": "stream",
     "text": [
      "List: \n",
      "---------------------------------------------------------\n",
      "Before Changing: \n",
      "['Abdullah', 'Jafri']\n",
      "---------------------------------------------------------\n",
      "After Changing: \n",
      "['Abdullah', 'Jaffrey']\n"
     ]
    }
   ],
   "source": [
    "print('List: ')\n",
    "print('---------------------------------------------------------')\n",
    "print('Before Changing: ')\n",
    "print(list1) \n",
    "print('---------------------------------------------------------')\n",
    "print('After Changing: ')\n",
    "list1[1] = 'Jaffrey'\n",
    "print(list1)"
   ]
  },
  {
   "cell_type": "code",
   "execution_count": 7,
   "id": "63148a55",
   "metadata": {},
   "outputs": [
    {
     "name": "stdout",
     "output_type": "stream",
     "text": [
      "Tuple: \n",
      "---------------------------------------------------------\n",
      "Before Changing: \n",
      "('Abdullah', 'Jafri')\n",
      "---------------------------------------------------------\n",
      "After Changing: \n"
     ]
    },
    {
     "ename": "TypeError",
     "evalue": "'tuple' object does not support item assignment",
     "output_type": "error",
     "traceback": [
      "\u001b[1;31m---------------------------------------------------------------------------\u001b[0m",
      "\u001b[1;31mTypeError\u001b[0m                                 Traceback (most recent call last)",
      "\u001b[1;32m~\\AppData\\Local\\Temp\\ipykernel_6200\\1563371217.py\u001b[0m in \u001b[0;36m<module>\u001b[1;34m\u001b[0m\n\u001b[0;32m      5\u001b[0m \u001b[0mprint\u001b[0m\u001b[1;33m(\u001b[0m\u001b[1;34m'---------------------------------------------------------'\u001b[0m\u001b[1;33m)\u001b[0m\u001b[1;33m\u001b[0m\u001b[1;33m\u001b[0m\u001b[0m\n\u001b[0;32m      6\u001b[0m \u001b[0mprint\u001b[0m\u001b[1;33m(\u001b[0m\u001b[1;34m'After Changing: '\u001b[0m\u001b[1;33m)\u001b[0m\u001b[1;33m\u001b[0m\u001b[1;33m\u001b[0m\u001b[0m\n\u001b[1;32m----> 7\u001b[1;33m \u001b[0mtuple1\u001b[0m\u001b[1;33m[\u001b[0m\u001b[1;36m1\u001b[0m\u001b[1;33m]\u001b[0m \u001b[1;33m=\u001b[0m \u001b[1;34m'Jaffrey'\u001b[0m\u001b[1;33m\u001b[0m\u001b[1;33m\u001b[0m\u001b[0m\n\u001b[0m\u001b[0;32m      8\u001b[0m \u001b[0mprint\u001b[0m\u001b[1;33m(\u001b[0m\u001b[0mtuple1\u001b[0m\u001b[1;33m)\u001b[0m\u001b[1;33m\u001b[0m\u001b[1;33m\u001b[0m\u001b[0m\n",
      "\u001b[1;31mTypeError\u001b[0m: 'tuple' object does not support item assignment"
     ]
    }
   ],
   "source": [
    "print('Tuple: ')\n",
    "print('---------------------------------------------------------')\n",
    "print('Before Changing: ')\n",
    "print(tuple1) \n",
    "print('---------------------------------------------------------')\n",
    "print('After Changing: ')\n",
    "tuple1[1] = 'Jaffrey'\n",
    "print(tuple1)"
   ]
  },
  {
   "cell_type": "markdown",
   "id": "bd09a7ae",
   "metadata": {},
   "source": [
    "10- Write a List that accepts the 5 different student names ( choose any 5 names of your choice)"
   ]
  },
  {
   "cell_type": "code",
   "execution_count": 8,
   "id": "1675505f",
   "metadata": {},
   "outputs": [],
   "source": [
    "List_of_students = ['Abdullah', 'Noah', 'Salis', 'Mikail','Jibrail']"
   ]
  },
  {
   "cell_type": "code",
   "execution_count": 9,
   "id": "0e2e5ff9",
   "metadata": {},
   "outputs": [
    {
     "data": {
      "text/plain": [
       "['Abdullah', 'Noah', 'Salis', 'Mikail', 'Jibrail']"
      ]
     },
     "execution_count": 9,
     "metadata": {},
     "output_type": "execute_result"
    }
   ],
   "source": [
    "List_of_students"
   ]
  },
  {
   "cell_type": "markdown",
   "id": "e27e249a",
   "metadata": {},
   "source": [
    "11- Delete the first 2 names in the List you just created and display the result."
   ]
  },
  {
   "cell_type": "code",
   "execution_count": 10,
   "id": "a82048e6",
   "metadata": {},
   "outputs": [
    {
     "data": {
      "text/plain": [
       "['Salis', 'Mikail', 'Jibrail']"
      ]
     },
     "execution_count": 10,
     "metadata": {},
     "output_type": "execute_result"
    }
   ],
   "source": [
    "del List_of_students[:2]\n",
    "List_of_students"
   ]
  },
  {
   "cell_type": "code",
   "execution_count": 11,
   "id": "0c9fc725",
   "metadata": {},
   "outputs": [
    {
     "ename": "SyntaxError",
     "evalue": "invalid syntax (855464073.py, line 1)",
     "output_type": "error",
     "traceback": [
      "\u001b[1;36m  File \u001b[1;32m\"C:\\Users\\abdul\\AppData\\Local\\Temp\\ipykernel_6200\\855464073.py\"\u001b[1;36m, line \u001b[1;32m1\u001b[0m\n\u001b[1;33m    12. Add thes word to the list AFTER deleting the first 2 names and print result - ( Watch, Videos, Practice)\u001b[0m\n\u001b[1;37m        ^\u001b[0m\n\u001b[1;31mSyntaxError\u001b[0m\u001b[1;31m:\u001b[0m invalid syntax\n"
     ]
    }
   ],
   "source": [
    "12. Add thes word to the list AFTER deleting the first 2 names and print result - ( Watch, Videos, Practice) "
   ]
  },
  {
   "cell_type": "code",
   "execution_count": 12,
   "id": "c423cc18",
   "metadata": {},
   "outputs": [
    {
     "name": "stdout",
     "output_type": "stream",
     "text": [
      "Before inserting: \n",
      "['Salis', 'Mikail', 'Jibrail']\n",
      "---------------------------------------------------------\n",
      "After inserting the values: \n",
      "[['Watch', 'Video', 'Practice'], 'Salis', 'Mikail', 'Jibrail']\n"
     ]
    }
   ],
   "source": [
    "print('Before inserting: ')\n",
    "print(List_of_students)\n",
    "print('---------------------------------------------------------')\n",
    "print('After inserting the values: ')\n",
    "List_of_students.insert(0,['Watch','Video','Practice'])\n",
    "print(List_of_students)"
   ]
  },
  {
   "cell_type": "markdown",
   "id": "24e7265b",
   "metadata": {},
   "source": [
    "13- Research the difference between the Append, Insert and  Extend function in python - give coded examples of all 3 - ( www.w3schools.com could help)."
   ]
  },
  {
   "cell_type": "markdown",
   "id": "d828d18c",
   "metadata": {},
   "source": [
    "**Append**: \n",
    "\n",
    "Append method is use to add a value in the list.\n",
    "\n",
    "Example:\n",
    "\n",
    "a = [1,2,3]\n",
    "\n",
    "a.append(4)\n",
    "\n",
    "Note:\n",
    "\n",
    "1. It will add the value in the last position.\n",
    "2. Append method may deprecated in future.\n",
    "\n",
    "Note: Deprecated means a functionality that still exists but its use is not recommended and it will no longer available in future."
   ]
  },
  {
   "cell_type": "code",
   "execution_count": 13,
   "id": "2af724ce",
   "metadata": {},
   "outputs": [
    {
     "name": "stdout",
     "output_type": "stream",
     "text": [
      "---------------------------------------------------------\n",
      "Before using appending method: \n",
      "[1, 2, 3]\n",
      "---------------------------------------------------------\n",
      "After using appending method: \n",
      "[1, 2, 3, 4]\n"
     ]
    }
   ],
   "source": [
    "a = [1,2,3]\n",
    "print('---------------------------------------------------------')\n",
    "print('Before using appending method: ')\n",
    "print(a)\n",
    "print('---------------------------------------------------------')\n",
    "print('After using appending method: ')\n",
    "a.append(4)\n",
    "print(a)"
   ]
  },
  {
   "cell_type": "markdown",
   "id": "76e43a3c",
   "metadata": {},
   "source": [
    "**Insert**: \n",
    "    \n",
    "We use insert method when we want to save our value at a certain position. \n",
    "\n",
    "Example: \n",
    "\n",
    "a =  [0,2,3] \n",
    "\n",
    "print(a) \n",
    "\n",
    "a.insert(1, 1) \n",
    "\n",
    "print(a)"
   ]
  },
  {
   "cell_type": "code",
   "execution_count": 14,
   "id": "e9f501a4",
   "metadata": {},
   "outputs": [
    {
     "name": "stdout",
     "output_type": "stream",
     "text": [
      "---------------------------------------------------------\n",
      "Before using insert method: \n",
      "[0, 2, 3]\n",
      "---------------------------------------------------------\n",
      "After using insert method: \n",
      "[0, 1, 2, 3]\n"
     ]
    }
   ],
   "source": [
    "a = [0,2,3]\n",
    "print('---------------------------------------------------------')\n",
    "print('Before using insert method: ')\n",
    "print(a)\n",
    "print('---------------------------------------------------------')\n",
    "print('After using insert method: ')\n",
    "a.insert(1, 1) # This will save value of 1 in 1 as label, second by order index. \n",
    "print(a)"
   ]
  },
  {
   "cell_type": "markdown",
   "id": "d4d6f93c",
   "metadata": {},
   "source": [
    "**Extend**:\n",
    "    \n",
    "We use extend to add the value of ones list/tuple to another. \n",
    "\n",
    "Example:\n",
    "\n",
    "a = [1,2,3]\n",
    "\n",
    "b = [4,5,6]\n",
    "\n",
    "a.extend(b)"
   ]
  },
  {
   "cell_type": "code",
   "execution_count": 15,
   "id": "d078ccc8",
   "metadata": {},
   "outputs": [],
   "source": [
    "a = [1,2,3]\n",
    "b = [4,5,6]"
   ]
  },
  {
   "cell_type": "code",
   "execution_count": 16,
   "id": "95e1a1ed",
   "metadata": {},
   "outputs": [
    {
     "name": "stdout",
     "output_type": "stream",
     "text": [
      "Before using extend method: \n",
      "[1, 2, 3]\n",
      "---------------------------------------------------------\n",
      "After using extend method: \n",
      "[1, 2, 3, 4, 5, 6]\n"
     ]
    }
   ],
   "source": [
    "print('Before using extend method: ')\n",
    "print(a)\n",
    "print('---------------------------------------------------------')\n",
    "print('After using extend method: ')\n",
    "a.extend(b)\n",
    "print(a)"
   ]
  },
  {
   "cell_type": "markdown",
   "id": "6e5e2155",
   "metadata": {},
   "source": [
    "14-  Post a question on the platform asking your cohort members if anyone needs any help\n",
    "\n",
    "Sure, I will ask when needed. Till now, thank you."
   ]
  },
  {
   "cell_type": "markdown",
   "id": "6cc88dfc",
   "metadata": {},
   "source": [
    "15- On a scale of 1-10, how difficult did you think this assignment was? \n",
    "\n",
    "I will rate it a 6. But I loved it really much."
   ]
  },
  {
   "cell_type": "code",
   "execution_count": 18,
   "id": "92cb1bd4",
   "metadata": {},
   "outputs": [],
   "source": [
    "# Done."
   ]
  }
 ],
 "metadata": {
  "kernelspec": {
   "display_name": "Python 3 (ipykernel)",
   "language": "python",
   "name": "python3"
  },
  "language_info": {
   "codemirror_mode": {
    "name": "ipython",
    "version": 3
   },
   "file_extension": ".py",
   "mimetype": "text/x-python",
   "name": "python",
   "nbconvert_exporter": "python",
   "pygments_lexer": "ipython3",
   "version": "3.9.13"
  }
 },
 "nbformat": 4,
 "nbformat_minor": 5
}
