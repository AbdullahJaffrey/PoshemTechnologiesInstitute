{
 "cells": [
  {
   "cell_type": "markdown",
   "id": "d7bf7166",
   "metadata": {},
   "source": [
    "**ASSIGNMENT ON (LIST, TURPLE, SETS, DICTIONARIES, STATEMENT, LOOP)**"
   ]
  },
  {
   "cell_type": "markdown",
   "id": "5c5e5df8",
   "metadata": {},
   "source": [
    "Print the second item in the fruits list."
   ]
  },
  {
   "cell_type": "code",
   "execution_count": 1,
   "id": "be179fc5",
   "metadata": {},
   "outputs": [
    {
     "name": "stdout",
     "output_type": "stream",
     "text": [
      "banana\n"
     ]
    }
   ],
   "source": [
    "fruits = [\"apple\", \"banana\", \"cherry\"]\n",
    "print(fruits[1])"
   ]
  },
  {
   "cell_type": "markdown",
   "id": "b5168f76",
   "metadata": {},
   "source": [
    "Use the correct syntax to print the number of items in the fruits tuple."
   ]
  },
  {
   "cell_type": "code",
   "execution_count": 2,
   "id": "d5d0c0c4",
   "metadata": {},
   "outputs": [
    {
     "name": "stdout",
     "output_type": "stream",
     "text": [
      "3\n"
     ]
    }
   ],
   "source": [
    "fruits = (\"apple\", \"banana\", \"cherry\")\n",
    "print(len(fruits))"
   ]
  },
  {
   "cell_type": "markdown",
   "id": "1514d7eb",
   "metadata": {},
   "source": [
    "Check if \"apple\" is present in the fruits set."
   ]
  },
  {
   "cell_type": "code",
   "execution_count": 3,
   "id": "ea2c0085",
   "metadata": {},
   "outputs": [
    {
     "name": "stdout",
     "output_type": "stream",
     "text": [
      "Yes, apple is a fruit!\n"
     ]
    }
   ],
   "source": [
    "fruits = {\"apple\", \"banana\", \"cherry\"}\n",
    "if \"apple\" in fruits:\n",
    "    print(\"Yes, apple is a fruit!\")"
   ]
  },
  {
   "cell_type": "markdown",
   "id": "f1e38588",
   "metadata": {},
   "source": [
    "Use the get method to print the value of the \"model\" key of the car dictionary."
   ]
  },
  {
   "cell_type": "code",
   "execution_count": 4,
   "id": "a21a94cb",
   "metadata": {},
   "outputs": [
    {
     "name": "stdout",
     "output_type": "stream",
     "text": [
      "Mustang\n"
     ]
    }
   ],
   "source": [
    "car ={\n",
    "  \"brand\": \"Ford\",\n",
    "  \"model\": \"Mustang\",\n",
    "  \"year\": 1964\n",
    "}\n",
    "print(car.get('model'))\n"
   ]
  },
  {
   "cell_type": "markdown",
   "id": "2b7ee1cf",
   "metadata": {},
   "source": [
    "Change the \"year\" value from 1964 to 2020."
   ]
  },
  {
   "cell_type": "code",
   "execution_count": 5,
   "id": "d7913b27",
   "metadata": {},
   "outputs": [
    {
     "name": "stdout",
     "output_type": "stream",
     "text": [
      "{'brand': 'Ford', 'model': 'Mustang', 'year': 1964}\n",
      "-------\n",
      "{'brand': 'Ford', 'model': 'Mustang', 'year': 2020}\n"
     ]
    }
   ],
   "source": [
    "car = {\n",
    "  \"brand\": \"Ford\",\n",
    "  \"model\": \"Mustang\",\n",
    "  \"year\": 1964\n",
    "}\n",
    "\n",
    "print(car)\n",
    "car['year'] = 2020\n",
    "print('-------')\n",
    "print(car)"
   ]
  },
  {
   "cell_type": "markdown",
   "id": "c0b74d1a",
   "metadata": {},
   "source": [
    "6. Print \"Hello World\" if a is greater than b."
   ]
  },
  {
   "cell_type": "code",
   "execution_count": 6,
   "id": "582aebfc",
   "metadata": {},
   "outputs": [
    {
     "name": "stdout",
     "output_type": "stream",
     "text": [
      "Hello World\n"
     ]
    }
   ],
   "source": [
    "a = 50\n",
    "b = 10\n",
    "if a > b:\n",
    "    print(\"Hello World\")"
   ]
  },
  {
   "cell_type": "markdown",
   "id": "db700c7a",
   "metadata": {},
   "source": [
    "7. Print \"Yes\" if a is equal to b; otherwise, print \"No.\""
   ]
  },
  {
   "cell_type": "code",
   "execution_count": 7,
   "id": "a18553c9",
   "metadata": {},
   "outputs": [
    {
     "name": "stdout",
     "output_type": "stream",
     "text": [
      "No\n"
     ]
    }
   ],
   "source": [
    "a = 50\n",
    "b = 10\n",
    "if a == b:\n",
    "    print(\"Yes\")\n",
    "else:\n",
    "    print(\"No\")"
   ]
  },
  {
   "cell_type": "markdown",
   "id": "b9c59dfd",
   "metadata": {},
   "source": [
    "8. Print i as long as i is less than 6."
   ]
  },
  {
   "cell_type": "code",
   "execution_count": 8,
   "id": "ba67a0d1",
   "metadata": {},
   "outputs": [
    {
     "name": "stdout",
     "output_type": "stream",
     "text": [
      "1\n",
      "2\n",
      "3\n",
      "4\n",
      "5\n"
     ]
    }
   ],
   "source": [
    "i = 1\n",
    "while i < 6:\n",
    "    print(i)\n",
    "    i += 1"
   ]
  },
  {
   "cell_type": "markdown",
   "id": "01c3e2da",
   "metadata": {},
   "source": [
    "9.Define a \n",
    "\n",
    "“Function  in Python”,\n",
    "\n",
    "Function Parameters and Arguments,  \n",
    "\n",
    "Function Return Values, \n",
    "\n",
    "Function Calling and Scope\n"
   ]
  },
  {
   "cell_type": "markdown",
   "id": "fd797a0d",
   "metadata": {},
   "source": [
    "**Function:**\n",
    "Function in python is used to increase the reusability of the code. Encapsulate/ Inserting a task/code in a block. So, we can use it by calling its name whenever we require, instead of writing that code again. \n",
    "\n",
    "**Example:**\n"
   ]
  },
  {
   "cell_type": "code",
   "execution_count": 9,
   "id": "65a2dd19",
   "metadata": {},
   "outputs": [
    {
     "name": "stdout",
     "output_type": "stream",
     "text": [
      "7\n",
      "12\n"
     ]
    }
   ],
   "source": [
    "def add (a, b):\n",
    "    return a + b\n",
    "print (add (3, 4))\n",
    "print (add (4, 8))"
   ]
  },
  {
   "cell_type": "markdown",
   "id": "dc7fd451",
   "metadata": {},
   "source": [
    "**Function Return Values:** \n",
    "Returns value in Python is used to display the value of what the function concludes in the end by using the result using the 'return' statement.\n",
    "\n",
    "**Example:**\n",
    "As above."
   ]
  },
  {
   "cell_type": "markdown",
   "id": "31177b71",
   "metadata": {},
   "source": [
    "**Parameters:**\n",
    "Parameters are the variable or placeholder value passed to replicate or to show how to insert value in function \n",
    "\n",
    "**Example:**\n"
   ]
  },
  {
   "cell_type": "code",
   "execution_count": 10,
   "id": "47dcd1a4",
   "metadata": {},
   "outputs": [],
   "source": [
    "def add(a, b):\n",
    "    return a + b\n",
    "# where a and b are the parameters."
   ]
  },
  {
   "cell_type": "markdown",
   "id": "bd94f689",
   "metadata": {},
   "source": [
    "**Arguments:** \n",
    "Arguments are the real values passed inside the function\n",
    "\n",
    "**Example:**\n"
   ]
  },
  {
   "cell_type": "code",
   "execution_count": 11,
   "id": "c3e012bf",
   "metadata": {},
   "outputs": [
    {
     "name": "stdout",
     "output_type": "stream",
     "text": [
      "30\n"
     ]
    }
   ],
   "source": [
    "print(add(10, 20))\n",
    "# where 10 and 20 are the arguments."
   ]
  },
  {
   "cell_type": "markdown",
   "id": "a945f45e",
   "metadata": {},
   "source": [
    "**Function Calling:** \n",
    "Executing a function to run the code.\n",
    "\n",
    "**Example:**\n"
   ]
  },
  {
   "cell_type": "code",
   "execution_count": 12,
   "id": "76296228",
   "metadata": {
    "scrolled": true
   },
   "outputs": [
    {
     "name": "stdout",
     "output_type": "stream",
     "text": [
      "30\n"
     ]
    }
   ],
   "source": [
    "def add(a, b):\n",
    "    return a + b\n",
    "result = add(10, 20)  #This is function calling\n",
    "print(result)\n"
   ]
  },
  {
   "cell_type": "markdown",
   "id": "dcc5b433",
   "metadata": {},
   "source": [
    "**Scope:** \n",
    "\n",
    "Determines the accessibility of variables within a program.\n",
    "\n",
    "There are 2 types of scopes:\n",
    "\n",
    "**1. Local:** \n",
    "Created inside a function and only accessed in the same function.\n",
    "\n",
    "**Example:**\n"
   ]
  },
  {
   "cell_type": "code",
   "execution_count": 13,
   "id": "00154196",
   "metadata": {},
   "outputs": [
    {
     "name": "stdout",
     "output_type": "stream",
     "text": [
      "Inside the function: local_var = 20\n"
     ]
    },
    {
     "ename": "NameError",
     "evalue": "name 'local_var' is not defined",
     "output_type": "error",
     "traceback": [
      "\u001b[1;31m---------------------------------------------------------------------------\u001b[0m",
      "\u001b[1;31mNameError\u001b[0m                                 Traceback (most recent call last)",
      "\u001b[1;32m~\\AppData\\Local\\Temp\\ipykernel_6544\\3558024248.py\u001b[0m in \u001b[0;36m<module>\u001b[1;34m\u001b[0m\n\u001b[0;32m      3\u001b[0m     \u001b[0mprint\u001b[0m\u001b[1;33m(\u001b[0m\u001b[1;34m\"Inside the function: local_var =\"\u001b[0m\u001b[1;33m,\u001b[0m \u001b[0mlocal_var\u001b[0m\u001b[1;33m)\u001b[0m   \u001b[1;31m# Accessing local variable\u001b[0m\u001b[1;33m\u001b[0m\u001b[1;33m\u001b[0m\u001b[0m\n\u001b[0;32m      4\u001b[0m \u001b[0mmy_function\u001b[0m\u001b[1;33m(\u001b[0m\u001b[1;36m20\u001b[0m\u001b[1;33m)\u001b[0m\u001b[1;33m\u001b[0m\u001b[1;33m\u001b[0m\u001b[0m\n\u001b[1;32m----> 5\u001b[1;33m \u001b[0mprint\u001b[0m\u001b[1;33m(\u001b[0m\u001b[0mlocal_var\u001b[0m\u001b[1;33m)\u001b[0m\u001b[1;33m\u001b[0m\u001b[1;33m\u001b[0m\u001b[0m\n\u001b[0m",
      "\u001b[1;31mNameError\u001b[0m: name 'local_var' is not defined"
     ]
    }
   ],
   "source": [
    "def my_function(local_var):\n",
    "    local_var = local_var\n",
    "    print(\"Inside the function: local_var =\", local_var)   # Accessing local variable\n",
    "my_function(20)\n",
    "print(local_var)"
   ]
  },
  {
   "cell_type": "markdown",
   "id": "c1151873",
   "metadata": {},
   "source": [
    "**2. Global:**\n",
    "\n",
    "Created outside a function and can be accessed in the inside of a function or outside the function. Two methods of creating a global variable.\n",
    "\n",
    "**Method # 01:**\n",
    "\n",
    "**Example:**\n"
   ]
  },
  {
   "cell_type": "code",
   "execution_count": null,
   "id": "2cc0f51a",
   "metadata": {},
   "outputs": [],
   "source": [
    "global_var = 10  # Global variable\n",
    "def my_function(value):\n",
    "    print(\"Inside the function: global_var =\", global_var)  # Accessing global variable\n",
    "my_function(20)\n",
    "print(global_var)"
   ]
  },
  {
   "cell_type": "markdown",
   "id": "63d1a611",
   "metadata": {},
   "source": [
    "**Method # 02:**\n",
    "\n",
    "**Example:**\n"
   ]
  },
  {
   "cell_type": "code",
   "execution_count": null,
   "id": "773edb51",
   "metadata": {},
   "outputs": [],
   "source": [
    "# Using global function inside the function.\n",
    "def my_function(value):\n",
    "    global global_var\n",
    "    global_var = 10  # Global variable\n",
    "    print(\"Inside the function: global_var =\", global_var)  # Accessing global variable\n",
    "my_function(20)\n",
    "print(global_var)"
   ]
  },
  {
   "cell_type": "code",
   "execution_count": null,
   "id": "6fa56c17",
   "metadata": {},
   "outputs": [],
   "source": [
    "# Done"
   ]
  }
 ],
 "metadata": {
  "kernelspec": {
   "display_name": "Python 3 (ipykernel)",
   "language": "python",
   "name": "python3"
  },
  "language_info": {
   "codemirror_mode": {
    "name": "ipython",
    "version": 3
   },
   "file_extension": ".py",
   "mimetype": "text/x-python",
   "name": "python",
   "nbconvert_exporter": "python",
   "pygments_lexer": "ipython3",
   "version": "3.9.13"
  }
 },
 "nbformat": 4,
 "nbformat_minor": 5
}
