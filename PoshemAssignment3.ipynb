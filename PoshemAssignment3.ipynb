{
 "cells": [
  {
   "cell_type": "markdown",
   "id": "e658b7de",
   "metadata": {},
   "source": [
    "# ASSIGNMENT FOR THE WEEK ON FUNCTIONS.\n",
    "\n",
    "\n",
    "Define a function called greet that takes one parameter student_name with a default value of \"Guest\".\n",
    "\n",
    "Inside the function, print a greeting message using the provided student_name.\n",
    "\n",
    "Call the greet function twice:\n",
    "\n",
    "Once without passing any arguments.\n",
    "\n",
    "Once by passing the name \"Alice\" as an argument."
   ]
  },
  {
   "cell_type": "code",
   "execution_count": 1,
   "id": "afaeead3",
   "metadata": {},
   "outputs": [],
   "source": [
    "def greet(student_name=\"Guest\"):\n",
    "    print(f'Hello {student_name}')"
   ]
  },
  {
   "cell_type": "code",
   "execution_count": 2,
   "id": "aec7145b",
   "metadata": {},
   "outputs": [
    {
     "name": "stdout",
     "output_type": "stream",
     "text": [
      "Hello Guest\n"
     ]
    }
   ],
   "source": [
    "greet()"
   ]
  },
  {
   "cell_type": "code",
   "execution_count": 3,
   "id": "06b9dff4",
   "metadata": {},
   "outputs": [
    {
     "name": "stdout",
     "output_type": "stream",
     "text": [
      "Hello Alice\n"
     ]
    }
   ],
   "source": [
    "greet(\"Alice\")"
   ]
  },
  {
   "cell_type": "markdown",
   "id": "1f8adee3",
   "metadata": {},
   "source": [
    "Define a function called multiply that takes two parameters, num1 and num2.\n",
    "\n",
    "Inside the function, calculate the product of num1 and num2.\n",
    "\n",
    "Return the result.\n",
    "\n",
    "Call the multiply function with different pairs of numbers as arguments and print the results."
   ]
  },
  {
   "cell_type": "code",
   "execution_count": 4,
   "id": "bfa4a913",
   "metadata": {},
   "outputs": [],
   "source": [
    "def multiply(num1, num2):\n",
    "    result = num1 * num2\n",
    "    return result"
   ]
  },
  {
   "cell_type": "code",
   "execution_count": 5,
   "id": "901473aa",
   "metadata": {},
   "outputs": [
    {
     "data": {
      "text/plain": [
       "8"
      ]
     },
     "execution_count": 5,
     "metadata": {},
     "output_type": "execute_result"
    }
   ],
   "source": [
    "multiply(2,4)"
   ]
  },
  {
   "cell_type": "code",
   "execution_count": 6,
   "id": "ee563fb8",
   "metadata": {},
   "outputs": [
    {
     "data": {
      "text/plain": [
       "24"
      ]
     },
     "execution_count": 6,
     "metadata": {},
     "output_type": "execute_result"
    }
   ],
   "source": [
    "multiply(3,8)"
   ]
  },
  {
   "cell_type": "markdown",
   "id": "83966721",
   "metadata": {},
   "source": [
    "Define a function called check_even_odd that takes one parameter, number.\n",
    "\n",
    "Inside the function, check if the number is even or odd.\n",
    "\n",
    "Print a message indicating whether the number is even or odd.\n",
    "\n",
    "Call the check_even_odd function with different numbers as arguments and observe the output.\n"
   ]
  },
  {
   "cell_type": "code",
   "execution_count": 7,
   "id": "cc57ef0a",
   "metadata": {},
   "outputs": [],
   "source": [
    "def check_even_odd(number):\n",
    "    if number%2 !=0:\n",
    "        print(f'The number you shared: {number} is odd')\n",
    "    else:\n",
    "        print(f'The number you shared: {number} is even')"
   ]
  },
  {
   "cell_type": "code",
   "execution_count": 8,
   "id": "58c0b9c9",
   "metadata": {},
   "outputs": [
    {
     "name": "stdout",
     "output_type": "stream",
     "text": [
      "The number you shared: 9 is odd\n"
     ]
    }
   ],
   "source": [
    "check_even_odd(9)"
   ]
  },
  {
   "cell_type": "code",
   "execution_count": 9,
   "id": "87a8c6dd",
   "metadata": {},
   "outputs": [
    {
     "name": "stdout",
     "output_type": "stream",
     "text": [
      "The number you shared: 10 is even\n"
     ]
    }
   ],
   "source": [
    "check_even_odd(10)"
   ]
  },
  {
   "cell_type": "markdown",
   "id": "be1096a3",
   "metadata": {},
   "source": [
    "Define a function called celsius_to_fahrenheit that takes one parameter, celsius.\n",
    "\n",
    "Inside the function, convert the temperature from Celsius to Fahrenheit using the formula: (celsius * 9/5) + 32.\n",
    "\n",
    "Return the converted temperature.\n",
    "\n",
    "Call the celsius_to_fahrenheit function with different Celsius temperatures as arguments and print the converted temperatures.\n"
   ]
  },
  {
   "cell_type": "code",
   "execution_count": 10,
   "id": "48626a8f",
   "metadata": {},
   "outputs": [],
   "source": [
    "def celsius_to_fahrenheit(celsius):\n",
    "    fahrenheit = (celsius * 9/5) + 32\n",
    "    return fahrenheit"
   ]
  },
  {
   "cell_type": "code",
   "execution_count": 11,
   "id": "0ede9ce5",
   "metadata": {},
   "outputs": [
    {
     "data": {
      "text/plain": [
       "89.6"
      ]
     },
     "execution_count": 11,
     "metadata": {},
     "output_type": "execute_result"
    }
   ],
   "source": [
    "celsius_to_fahrenheit(32)"
   ]
  },
  {
   "cell_type": "code",
   "execution_count": 12,
   "id": "df620920",
   "metadata": {},
   "outputs": [
    {
     "data": {
      "text/plain": [
       "122.0"
      ]
     },
     "execution_count": 12,
     "metadata": {},
     "output_type": "execute_result"
    }
   ],
   "source": [
    "celsius_to_fahrenheit(50)"
   ]
  },
  {
   "cell_type": "code",
   "execution_count": 13,
   "id": "bae5dcaf",
   "metadata": {},
   "outputs": [
    {
     "data": {
      "text/plain": [
       "24.8"
      ]
     },
     "execution_count": 13,
     "metadata": {},
     "output_type": "execute_result"
    }
   ],
   "source": [
    "celsius_to_fahrenheit(-4)"
   ]
  },
  {
   "cell_type": "markdown",
   "id": "acf20903",
   "metadata": {},
   "source": [
    "Define a function called sum_list that takes one parameter, num_list, which is a list of numbers.\n",
    "\n",
    "Inside the function, calculate the sum of all numbers in the num_list.\n",
    "\n",
    "Return the sum.\n",
    "\n",
    "Call the sum_list function with different lists of numbers as arguments and print the sums.\n"
   ]
  },
  {
   "cell_type": "code",
   "execution_count": 14,
   "id": "724e2fa6",
   "metadata": {},
   "outputs": [],
   "source": [
    "def sum_list(num_list):\n",
    "    sumofallnumber = sum(num_list)\n",
    "    return(sumofallnumber)"
   ]
  },
  {
   "cell_type": "code",
   "execution_count": 15,
   "id": "e4037e23",
   "metadata": {},
   "outputs": [
    {
     "data": {
      "text/plain": [
       "55"
      ]
     },
     "execution_count": 15,
     "metadata": {},
     "output_type": "execute_result"
    }
   ],
   "source": [
    "sum_list([1,2,3,4,5,6,7,8,9,10])"
   ]
  },
  {
   "cell_type": "code",
   "execution_count": 16,
   "id": "1a08c60b",
   "metadata": {},
   "outputs": [
    {
     "data": {
      "text/plain": [
       "60"
      ]
     },
     "execution_count": 16,
     "metadata": {},
     "output_type": "execute_result"
    }
   ],
   "source": [
    "sum_list([10,20,30])"
   ]
  },
  {
   "cell_type": "markdown",
   "id": "c12a19a3",
   "metadata": {},
   "source": [
    "## OR:"
   ]
  },
  {
   "cell_type": "code",
   "execution_count": 17,
   "id": "9c1e1a47",
   "metadata": {},
   "outputs": [],
   "source": [
    "def sum_list2(num_list):\n",
    "    sumresult = 0\n",
    "    for i in num_list:\n",
    "        sumresult += i\n",
    "    return sumresult"
   ]
  },
  {
   "cell_type": "code",
   "execution_count": 18,
   "id": "633c3205",
   "metadata": {},
   "outputs": [
    {
     "data": {
      "text/plain": [
       "55"
      ]
     },
     "execution_count": 18,
     "metadata": {},
     "output_type": "execute_result"
    }
   ],
   "source": [
    "sum_list2([1,2,3,4,5,6,7,8,9,10])"
   ]
  },
  {
   "cell_type": "code",
   "execution_count": 19,
   "id": "ae046e6f",
   "metadata": {},
   "outputs": [
    {
     "data": {
      "text/plain": [
       "60"
      ]
     },
     "execution_count": 19,
     "metadata": {},
     "output_type": "execute_result"
    }
   ],
   "source": [
    "sum_list2([10,20,30])"
   ]
  },
  {
   "cell_type": "markdown",
   "id": "d249c4a0",
   "metadata": {},
   "source": [
    "Define a function called factorial that takes one parameter, n.\n",
    "\n",
    "Inside the function, calculate the factorial of n using recursion.\n",
    "\n",
    "Return the factorial.\n",
    "\n",
    "Call the factorial function with different values of n and print the results.\n"
   ]
  },
  {
   "cell_type": "code",
   "execution_count": 20,
   "id": "b0f1e559",
   "metadata": {},
   "outputs": [],
   "source": [
    "def factorial(n):\n",
    "    result = 0\n",
    "    if n != 0 and n != 1:\n",
    "        result = n * factorial(n-1)\n",
    "        n -=1\n",
    "    else:\n",
    "        result = 1\n",
    "    return result"
   ]
  },
  {
   "cell_type": "code",
   "execution_count": 21,
   "id": "04bb7fdb",
   "metadata": {},
   "outputs": [
    {
     "data": {
      "text/plain": [
       "5040"
      ]
     },
     "execution_count": 21,
     "metadata": {},
     "output_type": "execute_result"
    }
   ],
   "source": [
    "factorial(7)"
   ]
  },
  {
   "cell_type": "code",
   "execution_count": 22,
   "id": "ccb4611d",
   "metadata": {},
   "outputs": [
    {
     "data": {
      "text/plain": [
       "120"
      ]
     },
     "execution_count": 22,
     "metadata": {},
     "output_type": "execute_result"
    }
   ],
   "source": [
    "factorial(5)"
   ]
  },
  {
   "cell_type": "code",
   "execution_count": 23,
   "id": "cee52cb5",
   "metadata": {},
   "outputs": [
    {
     "data": {
      "text/plain": [
       "1"
      ]
     },
     "execution_count": 23,
     "metadata": {},
     "output_type": "execute_result"
    }
   ],
   "source": [
    "factorial(1)"
   ]
  },
  {
   "cell_type": "code",
   "execution_count": 24,
   "id": "aa6e9cfd",
   "metadata": {},
   "outputs": [
    {
     "data": {
      "text/plain": [
       "1"
      ]
     },
     "execution_count": 24,
     "metadata": {},
     "output_type": "execute_result"
    }
   ],
   "source": [
    "factorial(0)"
   ]
  },
  {
   "cell_type": "markdown",
   "id": "17e1b74d",
   "metadata": {},
   "source": [
    "Create a simple calculator which can perform basic arithmetic operations \n",
    "\n",
    "like addition, subtraction, multiplication, or division \n",
    "\n",
    "depending upon the user input."
   ]
  },
  {
   "cell_type": "code",
   "execution_count": 25,
   "id": "3a5d739c",
   "metadata": {},
   "outputs": [],
   "source": [
    "def calculator():\n",
    "    \n",
    "    print(\"\"\"\n",
    "    \n",
    "    This is a simple calculator:\n",
    "    \n",
    "    Enter the first value you want to calculate.\n",
    "    \n",
    "    Then, Enter the second value you want to calculate.\n",
    "    \n",
    "    Then, choose the operation you want to perform:\n",
    "    \n",
    "    + for addition,\n",
    "    \n",
    "    - for subtraction,\n",
    "    \n",
    "    * for multiplication,\n",
    "    \n",
    "    / for division\n",
    "    \n",
    "    Thankyou for using this calculator. \n",
    "    \n",
    "    Made with ❤️.\n",
    "    \n",
    "    \n",
    "    \"\"\")\n",
    "    num1 = int(input('Kindly, Enter your first value: '))\n",
    "    num2 = int(input('Kindly, Enter your second value: '))\n",
    "    operator = input('Kindly, Enter which operation you like to perform: ')\n",
    "    \n",
    "    if operator == '+':\n",
    "        \n",
    "        result = num1 + num2\n",
    "        \n",
    "    elif operator == '-':\n",
    "        \n",
    "        result = num1 - num2\n",
    "    \n",
    "    elif operator == '*':\n",
    "        \n",
    "        result = num1 * num2\n",
    "    \n",
    "    elif operator == '/':\n",
    "        \n",
    "        result = num1 / num2\n",
    "    \n",
    "    else:\n",
    "        \n",
    "        result = 'Invalid Operation Performed.'\n",
    "    \n",
    "    return f'Your answer : {result}'"
   ]
  },
  {
   "cell_type": "code",
   "execution_count": 26,
   "id": "4e9b75e5",
   "metadata": {},
   "outputs": [
    {
     "name": "stdout",
     "output_type": "stream",
     "text": [
      "\n",
      "    \n",
      "    This is a simple calculator:\n",
      "    \n",
      "    Enter the first value you want to calculate.\n",
      "    \n",
      "    Then, Enter the second value you want to calculate.\n",
      "    \n",
      "    Then, choose the operation you want to perform:\n",
      "    \n",
      "    + for addition,\n",
      "    \n",
      "    - for subtraction,\n",
      "    \n",
      "    * for multiplication,\n",
      "    \n",
      "    / for division\n",
      "    \n",
      "    Thankyou for using this calculator. \n",
      "    \n",
      "    Made with ❤️.\n",
      "    \n",
      "    \n",
      "    \n",
      "Kindly, Enter your first value: 4\n",
      "Kindly, Enter your second value: 7\n",
      "Kindly, Enter which operation you like to perform: /\n"
     ]
    },
    {
     "data": {
      "text/plain": [
       "'Your answer : 0.5714285714285714'"
      ]
     },
     "execution_count": 26,
     "metadata": {},
     "output_type": "execute_result"
    }
   ],
   "source": [
    "calculator()"
   ]
  },
  {
   "cell_type": "code",
   "execution_count": 27,
   "id": "796120b5",
   "metadata": {},
   "outputs": [],
   "source": [
    "# Done"
   ]
  }
 ],
 "metadata": {
  "kernelspec": {
   "display_name": "Python 3 (ipykernel)",
   "language": "python",
   "name": "python3"
  },
  "language_info": {
   "codemirror_mode": {
    "name": "ipython",
    "version": 3
   },
   "file_extension": ".py",
   "mimetype": "text/x-python",
   "name": "python",
   "nbconvert_exporter": "python",
   "pygments_lexer": "ipython3",
   "version": "3.9.13"
  }
 },
 "nbformat": 4,
 "nbformat_minor": 5
}
