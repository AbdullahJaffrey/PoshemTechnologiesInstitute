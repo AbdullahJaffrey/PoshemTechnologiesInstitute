{
 "cells": [
  {
   "cell_type": "markdown",
   "id": "e7a6db87",
   "metadata": {},
   "source": [
    "# PYTHON FOR DATA ANALYSIS TRAINING\n",
    "\n",
    "## ASSIGNMENT ON NUMPY AND PANDAS"
   ]
  },
  {
   "cell_type": "markdown",
   "id": "f40c5562",
   "metadata": {},
   "source": [
    "## Numpy:"
   ]
  },
  {
   "cell_type": "markdown",
   "id": "58ef37ec",
   "metadata": {},
   "source": [
    "1. What is NumPy, and what is its primary purpose in Python programming?"
   ]
  },
  {
   "cell_type": "code",
   "execution_count": 1,
   "id": "68185725",
   "metadata": {},
   "outputs": [],
   "source": [
    "# Numpy, or 'Numerical Python' is a Python library used to perform numerical operations, especially dealing with arrays, single-dimensional, multi-dimensional arrays, and matrices."
   ]
  },
  {
   "cell_type": "markdown",
   "id": "612b22c0",
   "metadata": {},
   "source": [
    "2. Explain the concept of slicing in NumPy arrays with an example."
   ]
  },
  {
   "cell_type": "code",
   "execution_count": 2,
   "id": "6143581d",
   "metadata": {},
   "outputs": [],
   "source": [
    "# In English, Slicing means cutting something into pieces. Meanwhile, in Numpy/Python. \n",
    "# We sliced / selecting a subset of elements from an array so we can access any value from that array as per our need using the index or range."
   ]
  },
  {
   "cell_type": "code",
   "execution_count": 3,
   "id": "764e6a01",
   "metadata": {},
   "outputs": [],
   "source": [
    "import numpy as np"
   ]
  },
  {
   "cell_type": "code",
   "execution_count": 4,
   "id": "a4ee2460",
   "metadata": {},
   "outputs": [],
   "source": [
    "arr = np.array([1,2,3,4,5,6,7,8,9,10])"
   ]
  },
  {
   "cell_type": "code",
   "execution_count": 5,
   "id": "80fa04af",
   "metadata": {},
   "outputs": [
    {
     "data": {
      "text/plain": [
       "array([ 1,  2,  3,  4,  5,  6,  7,  8,  9, 10])"
      ]
     },
     "execution_count": 5,
     "metadata": {},
     "output_type": "execute_result"
    }
   ],
   "source": [
    "arr"
   ]
  },
  {
   "cell_type": "code",
   "execution_count": 6,
   "id": "dd9e91b1",
   "metadata": {},
   "outputs": [
    {
     "data": {
      "text/plain": [
       "array([ 6,  7,  8,  9, 10])"
      ]
     },
     "execution_count": 6,
     "metadata": {},
     "output_type": "execute_result"
    }
   ],
   "source": [
    "arr[5:]"
   ]
  },
  {
   "cell_type": "markdown",
   "id": "1e578ccb",
   "metadata": {},
   "source": [
    "3. What are some commonly used methods and attributes in NumPy arrays?\n",
    "Provide examples for each."
   ]
  },
  {
   "cell_type": "code",
   "execution_count": 7,
   "id": "ecaf5bd8",
   "metadata": {},
   "outputs": [],
   "source": [
    "# Thou Numpy as so many methods and attributes but the most used ones are highlighted below: \n",
    "\n",
    "\n",
    "# Methods:\n",
    "\n",
    "# 1. array\n",
    "# 2. arange\n",
    "# 3. ones\n",
    "# 4. zeros\n",
    "# 5. concatenate\n",
    "\n",
    "\n",
    "# Attributes:\n",
    "\n",
    "# 1. size\n",
    "# 2. ndim\n",
    "# 3. dtype\n"
   ]
  },
  {
   "cell_type": "markdown",
   "id": "5a17dad3",
   "metadata": {},
   "source": [
    "4. How do you create a NumPy array filled with zeros? Can you create a NumPy\n",
    "array filled with ones? Provide code examples for both."
   ]
  },
  {
   "cell_type": "code",
   "execution_count": 8,
   "id": "e2711cfb",
   "metadata": {},
   "outputs": [],
   "source": [
    "# Yes, we can create a NumPy array filled with zeros and filled with ones by using underneath methods."
   ]
  },
  {
   "cell_type": "code",
   "execution_count": 9,
   "id": "be467a9f",
   "metadata": {},
   "outputs": [],
   "source": [
    "import numpy as np"
   ]
  },
  {
   "cell_type": "code",
   "execution_count": 10,
   "id": "ae297da3",
   "metadata": {},
   "outputs": [
    {
     "data": {
      "text/plain": [
       "array([0., 0., 0., 0., 0., 0., 0., 0., 0., 0.])"
      ]
     },
     "execution_count": 10,
     "metadata": {},
     "output_type": "execute_result"
    }
   ],
   "source": [
    "np.zeros(10) # NumPy array filled with zeros"
   ]
  },
  {
   "cell_type": "code",
   "execution_count": 11,
   "id": "56fddc37",
   "metadata": {},
   "outputs": [
    {
     "data": {
      "text/plain": [
       "array([1., 1., 1., 1., 1., 1., 1., 1., 1., 1.])"
      ]
     },
     "execution_count": 11,
     "metadata": {},
     "output_type": "execute_result"
    }
   ],
   "source": [
    "np.ones(10) # NumPy array filled with ones"
   ]
  },
  {
   "cell_type": "markdown",
   "id": "da83dd9b",
   "metadata": {},
   "source": [
    "5. Describe a scenario where you might use NumPy in a data analysis or scien-\n",
    "tific computing task."
   ]
  },
  {
   "cell_type": "code",
   "execution_count": 12,
   "id": "34acd48d",
   "metadata": {},
   "outputs": [],
   "source": [
    "# We use numpy mostly with numerical computing task such as sales we made. Making it easier to understand sales trends and performance."
   ]
  },
  {
   "cell_type": "markdown",
   "id": "a850f0f1",
   "metadata": {},
   "source": [
    "## Pandas:"
   ]
  },
  {
   "cell_type": "markdown",
   "id": "607c689b",
   "metadata": {},
   "source": [
    "1. What is Pandas, and what role does it play in data analysis with Python?"
   ]
  },
  {
   "cell_type": "code",
   "execution_count": 13,
   "id": "19b79a14",
   "metadata": {},
   "outputs": [],
   "source": [
    "# Pandas is a Python library used to read and perform various operations on data, particularly dealing with dataframes and datasets. It helps data analyst to analyze data in more effective way."
   ]
  },
  {
   "cell_type": "markdown",
   "id": "4d29af91",
   "metadata": {},
   "source": [
    "2. Explain the concept of a Pandas Series. How is it different from a NumPy ar-ray?"
   ]
  },
  {
   "cell_type": "code",
   "execution_count": 14,
   "id": "88f416fb",
   "metadata": {},
   "outputs": [
    {
     "data": {
      "text/plain": [
       "0    0\n",
       "1    1\n",
       "2    2\n",
       "3    3\n",
       "4    4\n",
       "5    5\n",
       "6    6\n",
       "7    7\n",
       "8    8\n",
       "9    9\n",
       "dtype: int64"
      ]
     },
     "execution_count": 14,
     "metadata": {},
     "output_type": "execute_result"
    }
   ],
   "source": [
    "# Pandas Series deals with one-dimensional array. Numpy array is good in holding data of same type whereas Pandas Series is good for holding data of any type. \n",
    "\n",
    "import pandas as pd\n",
    "\n",
    "pd.Series(range(10)) "
   ]
  },
  {
   "cell_type": "markdown",
   "id": "645d20c4",
   "metadata": {},
   "source": [
    "3. How do you create a DataFrame in Pandas? Provide an example."
   ]
  },
  {
   "cell_type": "code",
   "execution_count": 15,
   "id": "3250ed7b",
   "metadata": {},
   "outputs": [
    {
     "data": {
      "text/html": [
       "<div>\n",
       "<style scoped>\n",
       "    .dataframe tbody tr th:only-of-type {\n",
       "        vertical-align: middle;\n",
       "    }\n",
       "\n",
       "    .dataframe tbody tr th {\n",
       "        vertical-align: top;\n",
       "    }\n",
       "\n",
       "    .dataframe thead th {\n",
       "        text-align: right;\n",
       "    }\n",
       "</style>\n",
       "<table border=\"1\" class=\"dataframe\">\n",
       "  <thead>\n",
       "    <tr style=\"text-align: right;\">\n",
       "      <th></th>\n",
       "      <th>Name</th>\n",
       "      <th>Marks</th>\n",
       "    </tr>\n",
       "  </thead>\n",
       "  <tbody>\n",
       "    <tr>\n",
       "      <th>0</th>\n",
       "      <td>Abdullah</td>\n",
       "      <td>84</td>\n",
       "    </tr>\n",
       "    <tr>\n",
       "      <th>1</th>\n",
       "      <td>Noah</td>\n",
       "      <td>91</td>\n",
       "    </tr>\n",
       "    <tr>\n",
       "      <th>2</th>\n",
       "      <td>Ishmael</td>\n",
       "      <td>90</td>\n",
       "    </tr>\n",
       "  </tbody>\n",
       "</table>\n",
       "</div>"
      ],
      "text/plain": [
       "       Name  Marks\n",
       "0  Abdullah     84\n",
       "1      Noah     91\n",
       "2   Ishmael     90"
      ]
     },
     "execution_count": 15,
     "metadata": {},
     "output_type": "execute_result"
    }
   ],
   "source": [
    "df = pd.DataFrame({\n",
    "\n",
    "    'Name': ['Abdullah', 'Noah', 'Ishmael'],\n",
    "    'Marks' : [84, 91, 90]\n",
    "    \n",
    "    \n",
    "})\n",
    "\n",
    "df # This is our DataFrame."
   ]
  },
  {
   "cell_type": "markdown",
   "id": "ffd2ef84",
   "metadata": {},
   "source": [
    "4. What are some common operations you can perform on a Pandas Data-\n",
    "Frame?"
   ]
  },
  {
   "cell_type": "code",
   "execution_count": 16,
   "id": "ba7dc492",
   "metadata": {},
   "outputs": [],
   "source": [
    "# Common operations you can perform on a Pandas DataFrame:\n",
    "\n",
    "# 1. Reading our data\n",
    "\n",
    "# 2. EDA (Manipulating or playing with our data + Cleaning our data)\n",
    "\n",
    "# 3. Analyzing Relationship in our data\n",
    "\n",
    "# 4. Extract Insights from our data\n",
    "\n",
    "# 5. Visualizing our data"
   ]
  },
  {
   "cell_type": "markdown",
   "id": "1ae75f7e",
   "metadata": {},
   "source": [
    "5. Describe a situation where you might use Pandas to analyze and manipulate\n",
    "tabular data."
   ]
  },
  {
   "cell_type": "code",
   "execution_count": 17,
   "id": "e5c4a24e",
   "metadata": {},
   "outputs": [],
   "source": [
    "# We use pandas mostly working with tabular data such as which product category makes the best sales in which region."
   ]
  },
  {
   "cell_type": "code",
   "execution_count": 18,
   "id": "9c738e5e",
   "metadata": {},
   "outputs": [],
   "source": [
    "# Done"
   ]
  }
 ],
 "metadata": {
  "kernelspec": {
   "display_name": "Python 3 (ipykernel)",
   "language": "python",
   "name": "python3"
  },
  "language_info": {
   "codemirror_mode": {
    "name": "ipython",
    "version": 3
   },
   "file_extension": ".py",
   "mimetype": "text/x-python",
   "name": "python",
   "nbconvert_exporter": "python",
   "pygments_lexer": "ipython3",
   "version": "3.9.13"
  }
 },
 "nbformat": 4,
 "nbformat_minor": 5
}
